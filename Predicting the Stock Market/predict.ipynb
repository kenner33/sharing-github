{
 "cells": [
  {
   "cell_type": "markdown",
   "metadata": {},
   "source": [
    "## Predicting the Stock Market"
   ]
  },
  {
   "cell_type": "markdown",
   "metadata": {},
   "source": [
    "In this project, you'll be working with data from the S&P500 Index.\n",
    "\n",
    "We'll be using historical data on the price of the S&P500 Index to make predictions about future prices. Predicting whether an index will go up or down will help us forecast how the stock market as a whole will perform. Since stocks tend to correlate with how well the economy as a whole is performing, it can also help us make economic forecasts.\n",
    "\n",
    "In this mission, you'll be working with a csv file containing index prices. Each row in the file contains a daily record of the price of the S&P500 Index from 1950 to 2015. The dataset is stored in sphist.csv\n",
    "\n",
    "We'll be using this dataset to develop a predictive model. We'll train the model with data from 1950-2012, and try to make predictions from 2013-2015."
   ]
  },
  {
   "cell_type": "code",
   "execution_count": 3,
   "metadata": {},
   "outputs": [
    {
     "name": "stdout",
     "output_type": "stream",
     "text": [
      "11.978757971300423\n",
      "0.999735486959\n"
     ]
    }
   ],
   "source": [
    "# PREDICTING THE STOCK MARKET\n",
    "\n",
    "import pandas as pd\n",
    "import numpy as np\n",
    "from datetime import datetime\n",
    "\n",
    "# READ IN THE DATA\n",
    "\n",
    "df = pd.read_csv('sphist.csv')\n",
    "df['DateTime'] = pd.to_datetime(df.Date)\n",
    "df_ordered = df.sort_values('DateTime', ascending=True)\n",
    "df_ordered['index'] = range(0, df.shape[0], 1)\n",
    "df_ordered.set_index(['index'])\n",
    "\n",
    "#GENERATING A FEW INDICATORS\n",
    "\n",
    "#Average price for past 5, 30 and 365 days\n",
    "df_ordered['date_after_april1_2015'] = df_ordered.DateTime > datetime(year=2015, month=4, day=1)\n",
    "\n",
    "#data_mean_5day = pd.rolling_mean(df_ordered.Close, window=5).shift(1)\n",
    "#data_mean_365day = pd.rolling_mean(df_ordered.Close, window=365).shift(1)\n",
    "\n",
    "data_mean_5day = df_ordered['Close'].rolling(window=5, center=False).mean()\n",
    "data_mean_365day = df_ordered['Close'].rolling(window=365, center=False).mean()\n",
    "\n",
    "data_mean_ratio = data_mean_5day/data_mean_365day\n",
    "\n",
    "#Standard deviation of price over 5 and 365 days\n",
    "#data_std_5day = pd.rolling_std(df_ordered.Close, window=5).shift(1)\n",
    "#data_std_365day = pd.rolling_std(df_ordered.Close, window=365).shift(1)\n",
    "\n",
    "data_std_5day = df_ordered['Close'].rolling(window=5, center=False).std()\n",
    "data_std_365day = df_ordered['Close'].rolling(window=365, center=False).std()\n",
    "\n",
    "data_std_ratio = data_std_5day/data_std_365day \n",
    "\n",
    "#Create these new indicator columns\n",
    "df_ordered['data_mean_5day'] = data_mean_5day\n",
    "df_ordered['data_mean_365day'] = data_mean_365day\n",
    "df_ordered['data_mean_ratio'] = data_mean_ratio\n",
    "df_ordered['data_std_5day'] = data_std_5day\n",
    "df_ordered['data_std_365day'] = data_std_365day\n",
    "df_ordered['data_std_ratio'] = data_std_ratio\n",
    "\n",
    "# SPLIT UP THE DATA\n",
    "\n",
    "df_new = df_ordered[df_ordered[\"DateTime\"] > datetime(year=1951, month=1, day=2)] #remove rows before 1951-01-03 becuase there isn't enough historical data to computer the indicators\n",
    "df_no_NA = df_new.dropna(axis=0) # remove NaN values\n",
    "\n",
    "df_train = df_no_NA[df_no_NA['DateTime'] < datetime(year=2013, month=1, day=1)]\n",
    "\n",
    "df_test = df_no_NA[df_no_NA['DateTime'] >= datetime(year=2013, month=1, day=1)]\n",
    "\n",
    "#MAKING PREDICTIONS\n",
    "\n",
    "from sklearn.linear_model import LinearRegression\n",
    "model = LinearRegression()\n",
    "\n",
    "#Leave out the original columns for training, they contain knowledge of the future\n",
    "features = ['data_mean_5day', 'data_mean_365day', 'data_mean_ratio', 'data_std_5day', 'data_std_365day', 'data_std_ratio']\n",
    "X = df_train[features]\n",
    "X_test = df_test[features]\n",
    "y = df_train.Close\n",
    "y_test = df_test.Close\n",
    "\n",
    "model.fit(X, y)\n",
    "pred = model.predict(X_test)\n",
    "\n",
    "# mean absolute error\n",
    "MAE = sum(abs(pred - y_test))/len(pred)\n",
    "print(MAE)\n",
    "print(model.score(X, y))\n",
    "\n",
    "\n"
   ]
  },
  {
   "cell_type": "markdown",
   "metadata": {},
   "source": [
    "Future addition: Add 2 additional indicators to your dataframe, and see if the error is reduced. You'll need to insert these indicators at the same point where you insert the others, before you clean out rows with NaN values and split the dataframe into train and test.\n",
    "\n",
    "Here are some ideas that might be helpful:\n",
    "\n",
    "- The average volume over the past five days.\n",
    "- The average volume over the past year.\n",
    "- The ratio between the average volume for the past five days, and the average volume for the past year.\n",
    "- The standard deviation of the average volume over the past five days.\n",
    "- The standard deviation of the average volume over the past year.\n",
    "- The ratio between the standard deviation of the average volume for the past five days, and the standard deviation of - the average volume for the past year.\n",
    "- The year component of the date.\n",
    "- The ratio between the lowest price in the past year and the current price.\n",
    "- The ratio between the highest price in the past year and the current price.\n",
    "- The year component of the date.\n",
    "- The month component of the date.\n",
    "- The day of week.\n",
    "- The day component of the date.\n",
    "- The number of holidays in the prior month."
   ]
  },
  {
   "cell_type": "markdown",
   "metadata": {
    "collapsed": true
   },
   "source": [
    "Future addition 2:\n",
    "\n",
    "There's a lot of improvement still to be made on the indicator side, and we urge you to think of better indicators that you could use for prediction. We can also make significant structural improvements to the algorithm, and pull in data from other sources.\n",
    "\n",
    "Accuracy would improve greatly by making predictions only one day ahead. For example, train a model using data from 1951-01-03 to 2013-01-02, make predictions for 2013-01-03, and then train another model using data from 1951-01-03 to 2013-01-03, make predictions for 2013-01-04, and so on. This more closely simulates what you'd do if you were trading using the algorithm.\n",
    "\n",
    "You can also improve the algorithm used significantly. Try other techniques, like a random forest, and see if they perform better.\n",
    "\n",
    "You can also incorporate outside data, such as the weather in New York City (where most trading happens) the day before, and the amount of Twitter activity around certain stocks.\n",
    "\n",
    "You can also make the system real-time by writing an automated script to download the latest data when the market closes, and make predictions for the next day.\n",
    "\n",
    "Finally, you can make the system \"higher-resolution\". You're currently making daily predictions, but you could make hourly, minute-by-minute, or second by second predictions. This will require obtaining more data, though. You could also make predictions for individual stocks instead of the S&P500"
   ]
  },
  {
   "cell_type": "code",
   "execution_count": null,
   "metadata": {
    "collapsed": true
   },
   "outputs": [],
   "source": []
  }
 ],
 "metadata": {
  "kernelspec": {
   "display_name": "Python 3",
   "language": "python",
   "name": "python3"
  },
  "language_info": {
   "codemirror_mode": {
    "name": "ipython",
    "version": 3
   },
   "file_extension": ".py",
   "mimetype": "text/x-python",
   "name": "python",
   "nbconvert_exporter": "python",
   "pygments_lexer": "ipython3",
   "version": "3.6.9"
  }
 },
 "nbformat": 4,
 "nbformat_minor": 2
}
